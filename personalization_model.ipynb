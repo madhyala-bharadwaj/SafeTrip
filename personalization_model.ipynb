{
 "cells": [
  {
   "cell_type": "markdown",
   "metadata": {},
   "source": [
    "# Personalization Model"
   ]
  },
  {
   "cell_type": "markdown",
   "metadata": {},
   "source": [
    "Inputs:\n",
    "- User profiles: Collected from user registration and account information.\n",
    "- Preferences: Gathered from user settings and preferences.\n",
    "- Past behavior: Derived from historical interaction data and usage patterns.\n",
    "- Demographic data: Collected during user registration and from public records.\n",
    "\n",
    "Outputs:\n",
    "- Personalized recommendations: Travel suggestions based on user-specific data.\n",
    "- Itineraries: Customized travel plans tailored to individual preferences.\n",
    "- Notifications: Alerts and updates based on user interests and activities.\n",
    "\n",
    "Usage:\n",
    "- Enhances user experience by providing customized travel suggestions and alerts based on user-specific data."
   ]
  },
  {
   "cell_type": "code",
   "execution_count": 2,
   "metadata": {},
   "outputs": [],
   "source": [
    "import warnings\n",
    "warnings.filterwarnings(\"ignore\")"
   ]
  },
  {
   "cell_type": "code",
   "execution_count": 3,
   "metadata": {},
   "outputs": [],
   "source": [
    "import pandas as pd\n",
    "import numpy as np\n",
    "from implicit.als import AlternatingLeastSquares\n",
    "from scipy.sparse import csr_matrix\n",
    "from sklearn.preprocessing import LabelEncoder, StandardScaler\n",
    "from sklearn.decomposition import PCA"
   ]
  },
  {
   "cell_type": "markdown",
   "metadata": {},
   "source": [
    "Generating Sample Data"
   ]
  },
  {
   "cell_type": "code",
   "execution_count": 4,
   "metadata": {},
   "outputs": [
    {
     "name": "stdout",
     "output_type": "stream",
     "text": [
      "User Profiles:\n",
      "    User  Age Gender Location  PreferenceA  PreferenceB  PreferenceC\n",
      "0  User1   56      F       SF            1            1            1\n",
      "1  User2   69      M       SF            1            1            1\n",
      "2  User3   46      M       SF            0            1            1\n",
      "3  User4   32      M       FL            1            1            0\n",
      "4  User5   60      F       TX            0            1            0\n",
      "\n",
      "User Behavior:\n",
      "     User   Item  Rating  Timestamp\n",
      "0   User4  ItemB       2 2024-01-01\n",
      "1   User2  ItemD       2 2024-01-02\n",
      "2   User5  ItemA       4 2024-01-03\n",
      "3   User4  ItemD       5 2024-01-04\n",
      "4   User1  ItemB       2 2024-01-05\n",
      "5   User1  ItemB       2 2024-01-06\n",
      "6   User3  ItemA       4 2024-01-07\n",
      "7   User3  ItemB       2 2024-01-08\n",
      "8   User2  ItemE       2 2024-01-09\n",
      "9   User4  ItemB       4 2024-01-10\n",
      "10  User4  ItemD       4 2024-01-11\n",
      "11  User3  ItemD       1 2024-01-12\n",
      "12  User4  ItemD       5 2024-01-13\n",
      "13  User4  ItemD       5 2024-01-14\n",
      "14  User1  ItemE       2 2024-01-15\n",
      "15  User3  ItemC       5 2024-01-16\n",
      "16  User5  ItemA       2 2024-01-17\n",
      "17  User3  ItemD       1 2024-01-18\n",
      "18  User5  ItemB       4 2024-01-19\n",
      "19  User1  ItemD       4 2024-01-20\n"
     ]
    }
   ],
   "source": [
    "np.random.seed(42)\n",
    "users = ['User1', 'User2', 'User3', 'User4', 'User5']\n",
    "items = ['ItemA', 'ItemB', 'ItemC', 'ItemD', 'ItemE']\n",
    "\n",
    "user_profiles = {\n",
    "    'User': users,\n",
    "    'Age': np.random.randint(18, 70, size=5),\n",
    "    'Gender': np.random.choice(['M', 'F'], size=5),\n",
    "    'Location': np.random.choice(['NY', 'LA', 'SF', 'TX', 'FL'], size=5),\n",
    "    'PreferenceA': np.random.choice([0, 1], size=5),\n",
    "    'PreferenceB': np.random.choice([0, 1], size=5),\n",
    "    'PreferenceC': np.random.choice([0, 1], size=5),\n",
    "}\n",
    "\n",
    "user_behavior = {\n",
    "    'User': np.random.choice(users, size=20),\n",
    "    'Item': np.random.choice(items, size=20),\n",
    "    'Rating': np.random.randint(1, 6, size=20),\n",
    "    'Timestamp': pd.date_range(start='2024-01-01', periods=20, freq='D')\n",
    "}\n",
    "\n",
    "df_profiles = pd.DataFrame(user_profiles)\n",
    "df_behavior = pd.DataFrame(user_behavior)\n",
    "\n",
    "print(\"User Profiles:\")\n",
    "print(df_profiles)\n",
    "print(\"\\nUser Behavior:\")\n",
    "print(df_behavior)"
   ]
  },
  {
   "cell_type": "code",
   "execution_count": 6,
   "metadata": {},
   "outputs": [
    {
     "data": {
      "text/html": [
       "<div>\n",
       "<style scoped>\n",
       "    .dataframe tbody tr th:only-of-type {\n",
       "        vertical-align: middle;\n",
       "    }\n",
       "\n",
       "    .dataframe tbody tr th {\n",
       "        vertical-align: top;\n",
       "    }\n",
       "\n",
       "    .dataframe thead th {\n",
       "        text-align: right;\n",
       "    }\n",
       "</style>\n",
       "<table border=\"1\" class=\"dataframe\">\n",
       "  <thead>\n",
       "    <tr style=\"text-align: right;\">\n",
       "      <th>Item</th>\n",
       "      <th>ItemA</th>\n",
       "      <th>ItemB</th>\n",
       "      <th>ItemC</th>\n",
       "      <th>ItemD</th>\n",
       "      <th>ItemE</th>\n",
       "    </tr>\n",
       "    <tr>\n",
       "      <th>User</th>\n",
       "      <th></th>\n",
       "      <th></th>\n",
       "      <th></th>\n",
       "      <th></th>\n",
       "      <th></th>\n",
       "    </tr>\n",
       "  </thead>\n",
       "  <tbody>\n",
       "    <tr>\n",
       "      <th>User1</th>\n",
       "      <td>0.0</td>\n",
       "      <td>2.0</td>\n",
       "      <td>0.0</td>\n",
       "      <td>4.00</td>\n",
       "      <td>2.0</td>\n",
       "    </tr>\n",
       "    <tr>\n",
       "      <th>User2</th>\n",
       "      <td>0.0</td>\n",
       "      <td>0.0</td>\n",
       "      <td>0.0</td>\n",
       "      <td>2.00</td>\n",
       "      <td>2.0</td>\n",
       "    </tr>\n",
       "    <tr>\n",
       "      <th>User3</th>\n",
       "      <td>4.0</td>\n",
       "      <td>2.0</td>\n",
       "      <td>5.0</td>\n",
       "      <td>1.00</td>\n",
       "      <td>0.0</td>\n",
       "    </tr>\n",
       "    <tr>\n",
       "      <th>User4</th>\n",
       "      <td>0.0</td>\n",
       "      <td>3.0</td>\n",
       "      <td>0.0</td>\n",
       "      <td>4.75</td>\n",
       "      <td>0.0</td>\n",
       "    </tr>\n",
       "    <tr>\n",
       "      <th>User5</th>\n",
       "      <td>3.0</td>\n",
       "      <td>4.0</td>\n",
       "      <td>0.0</td>\n",
       "      <td>0.00</td>\n",
       "      <td>0.0</td>\n",
       "    </tr>\n",
       "  </tbody>\n",
       "</table>\n",
       "</div>"
      ],
      "text/plain": [
       "Item   ItemA  ItemB  ItemC  ItemD  ItemE\n",
       "User                                    \n",
       "User1    0.0    2.0    0.0   4.00    2.0\n",
       "User2    0.0    0.0    0.0   2.00    2.0\n",
       "User3    4.0    2.0    5.0   1.00    0.0\n",
       "User4    0.0    3.0    0.0   4.75    0.0\n",
       "User5    3.0    4.0    0.0   0.00    0.0"
      ]
     },
     "execution_count": 6,
     "metadata": {},
     "output_type": "execute_result"
    }
   ],
   "source": [
    "# Create user-item interaction matrix\n",
    "user_item_matrix = pd.pivot_table(df_behavior, index='User', columns='Item', values='Rating', fill_value=0)\n",
    "\n",
    "user_item_matrix"
   ]
  },
  {
   "cell_type": "code",
   "execution_count": 9,
   "metadata": {},
   "outputs": [
    {
     "name": "stdout",
     "output_type": "stream",
     "text": [
      "  (0, 1)\t2.0\n",
      "  (0, 3)\t4.0\n",
      "  (0, 4)\t2.0\n",
      "  (1, 3)\t2.0\n",
      "  (1, 4)\t2.0\n",
      "  (2, 0)\t4.0\n",
      "  (2, 1)\t2.0\n",
      "  (2, 2)\t5.0\n",
      "  (2, 3)\t1.0\n",
      "  (3, 1)\t3.0\n",
      "  (3, 3)\t4.75\n",
      "  (4, 0)\t3.0\n",
      "  (4, 1)\t4.0\n"
     ]
    }
   ],
   "source": [
    "# Convert to sparse matrix format\n",
    "sparse_user_item = csr_matrix(user_item_matrix.values)\n",
    "print(sparse_user_item)"
   ]
  },
  {
   "cell_type": "markdown",
   "metadata": {},
   "source": [
    "Train the Model"
   ]
  },
  {
   "cell_type": "code",
   "execution_count": 10,
   "metadata": {},
   "outputs": [
    {
     "name": "stderr",
     "output_type": "stream",
     "text": [
      "100%|██████████| 20/20 [00:00<00:00, 1033.60it/s]\n"
     ]
    }
   ],
   "source": [
    "# Initialize the ALS model\n",
    "model = AlternatingLeastSquares(factors=10, regularization=0.1, iterations=20)\n",
    "\n",
    "# Train the model\n",
    "model.fit(sparse_user_item.T)"
   ]
  },
  {
   "cell_type": "code",
   "execution_count": 15,
   "metadata": {},
   "outputs": [
    {
     "name": "stdout",
     "output_type": "stream",
     "text": [
      "Top recommendations for User1: ['ItemC', 'ItemA', 'ItemE', 'ItemD', 'ItemB']\n"
     ]
    }
   ],
   "source": [
    "# Function to get top N recommendations for a given user\n",
    "def get_top_n_recommendations(user, n=5):\n",
    "    if user not in user_item_matrix.index:\n",
    "        raise ValueError(f\"User '{user}' not found in user-item matrix.\")\n",
    "    # To get index of user\n",
    "    user_index = user_item_matrix.index.get_loc(user)\n",
    "    # Recommend items to the user\n",
    "    recommendations = model.recommend(user_index, sparse_user_item[user_index], N=n)\n",
    "    # Extract recommended items\n",
    "    top_n_recommendations = [user_item_matrix.columns[i] for i in recommendations[0]]\n",
    "    \n",
    "    return top_n_recommendations\n",
    "\n",
    "# Example usage\n",
    "user = 'User1'\n",
    "top_n_recommendations = get_top_n_recommendations(user)\n",
    "print(f'Top recommendations for {user}: {top_n_recommendations}')"
   ]
  },
  {
   "cell_type": "code",
   "execution_count": 16,
   "metadata": {},
   "outputs": [],
   "source": [
    "# Encode categorical features\n",
    "le_location = LabelEncoder()\n",
    "df_profiles['Location'] = le_location.fit_transform(df_profiles['Location'])\n",
    "le_gender = LabelEncoder()\n",
    "df_profiles['Gender'] = le_gender.fit_transform(df_profiles['Gender'])\n",
    "\n",
    "# Standardize and reduce dimensionality of the user profiles\n",
    "scaler = StandardScaler()\n",
    "profile_features = ['Age', 'Gender', 'Location', 'PreferenceA', 'PreferenceB', 'PreferenceC']\n",
    "df_profiles_scaled = scaler.fit_transform(df_profiles[profile_features])\n",
    "pca = PCA(n_components=3) # used if more features are present\n",
    "df_profiles_pca = pca.fit_transform(df_profiles_scaled)"
   ]
  },
  {
   "cell_type": "code",
   "execution_count": 18,
   "metadata": {},
   "outputs": [
    {
     "data": {
      "text/plain": [
       "array([[ 0.43880437,  0.89830266,  1.07400689],\n",
       "       [-0.0321654 ,  1.71603512, -0.10449137],\n",
       "       [-0.141424  , -0.05248103, -1.68030469],\n",
       "       [-2.53245766, -1.13797661,  0.48415666],\n",
       "       [ 2.26724269, -1.42388014,  0.22663251]])"
      ]
     },
     "execution_count": 18,
     "metadata": {},
     "output_type": "execute_result"
    }
   ],
   "source": [
    "df_profiles_pca"
   ]
  },
  {
   "cell_type": "code",
   "execution_count": 19,
   "metadata": {},
   "outputs": [
    {
     "name": "stdout",
     "output_type": "stream",
     "text": [
      "Adjusted recommendations for User1: ['ItemD', 'ItemA', 'ItemC', 'ItemE', 'ItemB']\n"
     ]
    }
   ],
   "source": [
    "# Adjust recommendation scores based on user profiles and preferences\n",
    "def adjust_recommendations(user, recommendations):\n",
    "    user_profile = df_profiles[df_profiles['User'] == user].iloc[0]\n",
    "    user_vector = pca.transform(scaler.transform([user_profile[profile_features]]))[0]\n",
    "    preference_scores = []\n",
    "\n",
    "    for item in recommendations:\n",
    "        score = 0\n",
    "        if user_profile['PreferenceA']:\n",
    "            score += np.random.rand() \n",
    "        if user_profile['PreferenceB']:\n",
    "            score += np.random.rand()\n",
    "        if user_profile['PreferenceC']:\n",
    "            score += np.random.rand()\n",
    "        preference_scores.append(score)\n",
    "    \n",
    "    adjusted_recommendations = sorted(zip(recommendations, preference_scores), key=lambda x: x[1], reverse=True)\n",
    "    adjusted_recommendations = [rec[0] for rec in adjusted_recommendations]\n",
    "    return adjusted_recommendations\n",
    "\n",
    "# Example usage with adjusted recommendations\n",
    "adjusted_recommendations = adjust_recommendations(user, top_n_recommendations)\n",
    "print(f\"Adjusted recommendations for {user}: {adjusted_recommendations}\")"
   ]
  },
  {
   "cell_type": "code",
   "execution_count": 20,
   "metadata": {},
   "outputs": [
    {
     "name": "stdout",
     "output_type": "stream",
     "text": [
      "Personalized Experience for User1:\n",
      "\n",
      "Recommendations: ['ItemE', 'ItemB', 'ItemC', 'ItemD', 'ItemA']\n",
      "Itinerary: Suggested Itinerary for User1: Visit ItemE, ItemB, ItemC.\n",
      "Notifications: Notifications for User1: Special offers available for ItemE, ItemB, ItemC, ItemD, ItemA.\n"
     ]
    }
   ],
   "source": [
    "# Function to provide personalized recommendations, itineraries, and notifications\n",
    "def provide_personalized_experience(user):\n",
    "    top_n_recommendations = get_top_n_recommendations(user)\n",
    "    adjusted_recommendations = adjust_recommendations(user, top_n_recommendations)\n",
    "    \n",
    "    itinerary = f\"Suggested Itinerary for {user}: Visit {', '.join(adjusted_recommendations[:3])}.\"\n",
    "    notifications = f\"Notifications for {user}: Special offers available for {', '.join(adjusted_recommendations)}.\"\n",
    "    \n",
    "    return {\n",
    "        'User': user,\n",
    "        'Recommendations': adjusted_recommendations,\n",
    "        'Itinerary': itinerary,\n",
    "        'Notifications': notifications\n",
    "    }\n",
    "\n",
    "# Example usage\n",
    "user_experience = provide_personalized_experience(user)\n",
    "print(f\"Personalized Experience for {user}:\\n\")\n",
    "print(f\"Recommendations: {user_experience['Recommendations']}\")\n",
    "print(f\"Itinerary: {user_experience['Itinerary']}\")\n",
    "print(f\"Notifications: {user_experience['Notifications']}\")"
   ]
  }
 ],
 "metadata": {
  "kernelspec": {
   "display_name": "Python 3",
   "language": "python",
   "name": "python3"
  },
  "language_info": {
   "codemirror_mode": {
    "name": "ipython",
    "version": 3
   },
   "file_extension": ".py",
   "mimetype": "text/x-python",
   "name": "python",
   "nbconvert_exporter": "python",
   "pygments_lexer": "ipython3",
   "version": "3.9.19"
  }
 },
 "nbformat": 4,
 "nbformat_minor": 2
}
