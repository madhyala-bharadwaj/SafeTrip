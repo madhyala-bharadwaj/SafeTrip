{
 "cells": [
  {
   "cell_type": "markdown",
   "metadata": {},
   "source": [
    "# Recommendation Engine"
   ]
  },
  {
   "cell_type": "markdown",
   "metadata": {},
   "source": [
    "Inputs:\n",
    "- User preferences: Collected from user settings and previous interactions.\n",
    "- Historical data: Aggregated from past usage patterns and interactions.\n",
    "- Location: Real-time location data from GPS and mobile devices.\n",
    "- Current context: Contextual information such as time, weather, and local events.\n",
    "\n",
    "Outputs:\n",
    "- Recommendations for accommodations, activities, dining options, and travel routes: Suggestions tailored to user preferences and current location.\n",
    "\n",
    "Usage:\n",
    "- Assists users in planning their trips by suggesting personalized travel options based on their\n",
    "preferences and current location.\n",
    "\n",
    "---\n",
    "\n",
    "For this recommendation engine, we'll use matrix factorization with ALS (Alternating Least Squares) from the implicit library. We'll simulate real-time location data and current context by adding randomness to the generated data.\n",
    "\n",
    "This implementation showcases how to integrate user preferences, historical data, real-time location, and current context to provide personalized travel recommendations."
   ]
  },
  {
   "cell_type": "code",
   "execution_count": 1,
   "metadata": {},
   "outputs": [],
   "source": [
    "import warnings\n",
    "warnings.filterwarnings(\"ignore\")"
   ]
  },
  {
   "cell_type": "code",
   "execution_count": 2,
   "metadata": {},
   "outputs": [],
   "source": [
    "import numpy as np\n",
    "import pandas as pd\n",
    "from scipy.sparse import csr_matrix\n",
    "from implicit.als import AlternatingLeastSquares"
   ]
  },
  {
   "cell_type": "markdown",
   "metadata": {},
   "source": [
    "Generating Sample Data"
   ]
  },
  {
   "cell_type": "code",
   "execution_count": 3,
   "metadata": {},
   "outputs": [],
   "source": [
    "# Generate sample user preferences data\n",
    "np.random.seed(42)\n",
    "users = ['User1', 'User2', 'User3', 'User4', 'User5']\n",
    "preferences = ['accommodation', 'activities', 'dining', 'travel_routes']\n",
    "\n",
    "user_preferences = {\n",
    "    'User': users,\n",
    "    'Accommodation': np.random.randint(1, 6, size=5),\n",
    "    'Activities': np.random.randint(1, 6, size=5),\n",
    "    'Dining': np.random.randint(1, 6, size=5),\n",
    "    'TravelRoutes': np.random.randint(1, 6, size=5),\n",
    "}\n",
    "\n",
    "# Generate sample historical data\n",
    "items = ['PlaceA', 'PlaceB', 'PlaceC', 'PlaceD', 'PlaceE']\n",
    "historical_data = {\n",
    "    'User': np.random.choice(users, size=20),\n",
    "    'Item': np.random.choice(items, size=20),\n",
    "    'Rating': np.random.randint(1, 6, size=20),\n",
    "    'Timestamp': pd.date_range(start='2023-01-01', periods=20, freq='D')\n",
    "}\n",
    "\n",
    "# Generate sample location data\n",
    "locations = ['NY', 'LA', 'SF', 'TX', 'FL']\n",
    "location_data = {\n",
    "    'User': users,\n",
    "    'CurrentLocation': np.random.choice(locations, size=5)\n",
    "}\n",
    "\n",
    "# Generate sample current context data\n",
    "context_data = {\n",
    "    'User': users,\n",
    "    'Time': np.random.choice(['Morning', 'Afternoon', 'Evening', 'Night'], size=5),\n",
    "    'Weather': np.random.choice(['Sunny', 'Rainy', 'Cloudy', 'Snowy'], size=5),\n",
    "    'LocalEvents': np.random.choice(['Concert', 'Festival', 'Exhibition', 'None'], size=5)\n",
    "}\n",
    "\n",
    "# Convert to DataFrames\n",
    "df_preferences = pd.DataFrame(user_preferences)\n",
    "df_historical = pd.DataFrame(historical_data)\n",
    "df_location = pd.DataFrame(location_data)\n",
    "df_context = pd.DataFrame(context_data)"
   ]
  },
  {
   "cell_type": "markdown",
   "metadata": {},
   "source": [
    "Model Building"
   ]
  },
  {
   "cell_type": "code",
   "execution_count": 4,
   "metadata": {},
   "outputs": [
    {
     "name": "stderr",
     "output_type": "stream",
     "text": [
      "100%|██████████| 20/20 [00:00<?, ?it/s]\n"
     ]
    }
   ],
   "source": [
    "# Create user-item interaction matrix\n",
    "user_item_matrix = pd.pivot_table(df_historical, index='User', columns='Item', values='Rating', fill_value=0)\n",
    "\n",
    "# Convert to sparse matrix format\n",
    "sparse_user_item = csr_matrix(user_item_matrix.values)\n",
    "\n",
    "# Initialize the ALS model\n",
    "model = AlternatingLeastSquares(factors=10, regularization=0.1, iterations=20)\n",
    "\n",
    "# Train the model\n",
    "model.fit(sparse_user_item.T)"
   ]
  },
  {
   "cell_type": "code",
   "execution_count": 5,
   "metadata": {},
   "outputs": [
    {
     "name": "stdout",
     "output_type": "stream",
     "text": [
      "Top recommendations for User1: ['PlaceC', 'PlaceA', 'PlaceE', 'PlaceD', 'PlaceB']\n"
     ]
    }
   ],
   "source": [
    "# Function to get top N recommendations for a given user\n",
    "def get_top_n_recommendations(user, n=5):\n",
    "    user_index = user_item_matrix.index.get_loc(user)\n",
    "    recommendations = model.recommend(user_index, sparse_user_item[user_index], N=n)\n",
    "    top_n_recommendations = [user_item_matrix.columns[i] for i in recommendations[0]]\n",
    "    return top_n_recommendations\n",
    "\n",
    "# Example usage\n",
    "user = 'User1'\n",
    "top_n_recommendations = get_top_n_recommendations(user)\n",
    "print(f\"Top recommendations for {user}: {top_n_recommendations}\")"
   ]
  },
  {
   "cell_type": "code",
   "execution_count": 6,
   "metadata": {},
   "outputs": [
    {
     "name": "stdout",
     "output_type": "stream",
     "text": [
      "Adjusted recommendations for User1: ['PlaceE', 'PlaceD', 'PlaceC', 'PlaceA', 'PlaceB']\n"
     ]
    }
   ],
   "source": [
    "# Function to adjust recommendations based on user preferences and context\n",
    "def adjust_recommendations(user, recommendations):\n",
    "    user_profile = df_preferences[df_preferences['User'] == user].iloc[0]\n",
    "    context_profile = df_context[df_context['User'] == user].iloc[0]\n",
    "    \n",
    "    preference_scores = []\n",
    "    for item in recommendations:\n",
    "        score = 0\n",
    "        score += user_profile['Accommodation'] * np.random.rand()\n",
    "        score += user_profile['Activities'] * np.random.rand()\n",
    "        score += user_profile['Dining'] * np.random.rand()\n",
    "        score += user_profile['TravelRoutes'] * np.random.rand()\n",
    "        \n",
    "        if context_profile['Weather'] == 'Sunny':\n",
    "            score += np.random.rand()\n",
    "        if context_profile['LocalEvents'] != 'None':\n",
    "            score += np.random.rand()\n",
    "        \n",
    "        preference_scores.append(score)\n",
    "    \n",
    "    adjusted_recommendations = sorted(zip(recommendations, preference_scores), key=lambda x: x[1], reverse=True)\n",
    "    adjusted_recommendations = [rec[0] for rec in adjusted_recommendations]\n",
    "    return adjusted_recommendations\n",
    "\n",
    "# Adjusted recommendations based on user preferences and context\n",
    "adjusted_recommendations = adjust_recommendations(user, top_n_recommendations)\n",
    "print(f\"Adjusted recommendations for {user}: {adjusted_recommendations}\")"
   ]
  }
 ],
 "metadata": {
  "kernelspec": {
   "display_name": "Python 3",
   "language": "python",
   "name": "python3"
  },
  "language_info": {
   "codemirror_mode": {
    "name": "ipython",
    "version": 3
   },
   "file_extension": ".py",
   "mimetype": "text/x-python",
   "name": "python",
   "nbconvert_exporter": "python",
   "pygments_lexer": "ipython3",
   "version": "3.9.19"
  }
 },
 "nbformat": 4,
 "nbformat_minor": 2
}
